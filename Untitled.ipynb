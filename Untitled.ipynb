{
 "cells": [
  {
   "cell_type": "code",
   "execution_count": 5,
   "id": "higher-traffic",
   "metadata": {},
   "outputs": [
    {
     "name": "stdout",
     "output_type": "stream",
     "text": [
      "   Shipped_Date  ID     Total     Month\n",
      "0    2006-01-22  30   1505.00   January\n",
      "1    2006-01-22  32   1190.00   January\n",
      "2    2006-01-22  31    865.00   January\n",
      "3    2006-01-31  33    276.00   January\n",
      "4    2006-02-07  34    184.00  February\n",
      "5    2006-02-12  35    127.50  February\n",
      "6    2006-02-25  36   1930.00  February\n",
      "7    2006-03-09  37    680.00     March\n",
      "8    2006-03-11  38  13800.00     March\n",
      "9    2006-03-24  40    598.00     March\n",
      "10   2006-03-24  39   1275.00     March\n",
      "11   2006-04-03  56    127.50     April\n",
      "12   2006-04-05  51   1375.25     April\n",
      "13   2006-04-05  46   3690.00     April\n",
      "14   2006-04-05  50    200.00     April\n",
      "15   2006-04-05  48   1230.00     April\n",
      "16   2006-04-05  55   1218.00     April\n",
      "17   2006-04-07  45   1402.50     April\n",
      "18   2006-04-07  42    562.00     April\n",
      "19   2006-04-08  47   4200.00     April\n",
      "20   2006-04-22  58   3520.00     April\n",
      "21   2006-04-25  63    620.00     April\n",
      "22   2006-04-30  60   1392.00     April\n",
      "23   2006-05-24  67    200.00       May\n",
      "24   2006-06-05  73     96.50      June\n",
      "25   2006-06-05  76    660.00      June\n",
      "26   2006-06-05  75    510.00      June\n",
      "27   2006-06-05  78   1560.00      June\n",
      "28   2006-06-05  77   2250.00      June\n",
      "29   2006-06-07  72    230.00      June\n",
      "30   2006-06-08  74    510.00      June\n",
      "31   2006-06-23  79   2490.00      June\n"
     ]
    }
   ],
   "source": [
    "from flask import Flask\n",
    "from flask import render_template\n",
    "import datetime\n",
    "import os\n",
    "import numpy as np\n",
    "import pandas as pd\n",
    "import mysql.connector\n",
    "\n",
    "\n",
    "try:\n",
    "    connection = mysql.connector.connect(host=\"localhost\",\n",
    "                                   user  =\"root\",\n",
    "                                     passwd=\"\",\n",
    "                                   db=\"northwind\",\n",
    "                                     auth_plugin='mysql_native_password')\n",
    "\n",
    "    tables=pd.read_sql_query(\"SHOW TABLES FROM northwind\",connection)\n",
    "\n",
    "except:\n",
    "    pass\n",
    "# Chart1 \"\"\"\"\"\"\"\"\"\"\"\"\"\"\"\"\"\"\"\"\"\"\"\"\"\"\"\"\"\"\"\"\"\"\"\"\"\"\"\"\"\"\"\"\"\"\"\"\"\"\"\"\"\"\"\"\"\"\"\"\"\"\"\"\"\"\"\"\"\"\"\"\"\"\"\"\"\"\"\"\"\"\"\"\"\"\"\"\"\"\"\"\"\"\"\"\"\"\"\"\"\"\"\"\"\"\"\"\"\"\"\n",
    "try:\n",
    "    salesBycompanies=pd.read_sql_query(\"\"\"\n",
    "    SELECT c.Company,\n",
    "    SUM((od.Quantity * od.Unit_Price)) AS Total\n",
    "    FROM Customers c\n",
    "    INNER JOIN Orders o\n",
    "    ON c.ID = o.Customer_ID\n",
    "    inner join\n",
    "    `Order_Details` od\n",
    "    ON o.ID = od.Order_ID\n",
    "    INNER JOIN\n",
    "    Products p\n",
    "    ON od.Product_ID = p.ID\n",
    "    GROUP BY  c.Company\n",
    "    ORDER BY Total DESC;\n",
    "    \n",
    "    \"\"\",connection)\n",
    "    salesBycompanies.to_csv(\"salesBycompanies.csv\")\n",
    "except:\n",
    "    salesBycompanies=pd.read_csv(\"salesBycompanies.csv\")\n",
    "\n",
    "try:\n",
    "    Top10Products = pd.read_sql_query(\"\"\"\n",
    "    SELECT p.Product_Name, SUM(od.Quantity) AS `Total Units Sold`\n",
    "    FROM\n",
    "    Orders o\n",
    "    inner join\n",
    "    `Order_Details` od\n",
    "    ON o.ID = od.Order_ID\n",
    "    INNER JOIN\n",
    "    Products p\n",
    "    ON od.Product_ID = p.ID\n",
    "    GROUP BY p.Product_Name\n",
    "    ORDER BY `Total Units Sold` DESC LIMIT 5;\n",
    "    \n",
    "    \n",
    "    \"\"\",connection)\n",
    "    Top10Products.to_csv(\"Top10Products.csv\")\n",
    "except:\n",
    "    Top10Products=pd.read_csv(\"Top10Products.csv\")\n",
    "\n",
    "try:\n",
    "    SalesByTime = pd.read_sql_query(\"\"\"\n",
    "    \n",
    "    select distinct date(o.Shipped_Date) as Shipped_Date, \n",
    "        o.ID, \n",
    "        od.Total, \n",
    "        monthname(o.Shipped_Date) as Month\n",
    "    from Orders o\n",
    "    inner join\n",
    "    ( select distinct Order_ID, \n",
    "            format(sum(Unit_Price * Quantity * (1 - Discount)), 2) as total\n",
    "        from `order_details`\n",
    "        group by Order_ID    \n",
    "    ) od on o.ID = od.Order_ID\n",
    "    where o.Shipped_Date is not null\n",
    "        and o.Shipped_Date between date('2000-12-24') and date('2008-09-30')\n",
    "    order by Shipped_Date;\n",
    "    \n",
    "    \n",
    "    \"\"\",connection)\n",
    "    SalesByTime.to_csv(\"SalesByTime.csv\")\n",
    "except:\n",
    "    SalesByTime=pd.read_csv(\"SalesByTime.csv\")\n",
    "try:\n",
    "\n",
    "    SalesByMonth = pd.read_sql_query(\"\"\"\n",
    "    select month,sum(total) as total\n",
    "    from (\n",
    "    select distinct date(o.Shipped_Date) as Shipped_Date, \n",
    "        o.ID, \n",
    "        od.Total, \n",
    "        monthname(o.Shipped_Date) as Month\n",
    "    from Orders o\n",
    "    inner join\n",
    "    ( select distinct Order_ID, \n",
    "            format(sum(Unit_Price * Quantity * (1 - Discount)), 2) as total\n",
    "        from `order_details`\n",
    "        group by Order_ID    \n",
    "    ) od on o.ID = od.Order_ID\n",
    "    where o.Shipped_Date is not null\n",
    "        and o.Shipped_Date between date('2000-12-24') and date('2008-09-30')\n",
    "    order by Shipped_Date) t\n",
    "    group by month\n",
    "    ;\n",
    "    \"\"\",connection)\n",
    "    SalesByMonth.to_csv(\"SalesByMonth.csv\")\n",
    "except:\n",
    "    SalesByMonth=pd.read_csv(\"SalesByMonth.csv\")\n",
    "\n",
    "\n",
    "try:\n",
    "    SalesByYear = pd.read_sql_query(\"\"\"\n",
    "    select year,sum(total) as total\n",
    "    from (\n",
    "    select distinct date(o.Shipped_Date) as Shipped_Date, \n",
    "        o.ID, \n",
    "        od.Total, \n",
    "        year(o.Shipped_Date) as year\n",
    "    from Orders o\n",
    "    inner join\n",
    "    ( select distinct Order_ID, \n",
    "            format(sum(Unit_Price * Quantity * (1 - Discount)), 2) as total\n",
    "        from `order_details`\n",
    "        group by Order_ID    \n",
    "    ) od on o.ID = od.Order_ID\n",
    "    where o.Shipped_Date is not null\n",
    "        and o.Shipped_Date between date('2000-12-24') and date('2008-09-30')\n",
    "    order by Shipped_Date) t\n",
    "    group by year\n",
    "    ;\n",
    "    \"\"\",connection)\n",
    "    SalesByYear.to_csv(\"SalesByYear.csv\")\n",
    "except:\n",
    "    SalesByYear=pd.read_csv(\"SalesByYear.csv\")\n",
    "try:\n",
    "\n",
    "    ProductsAboveAveragePrice = pd.read_sql_query(\"\"\"\n",
    "    SELECT Products.Product_Name ,\n",
    "    Products.list_Price \n",
    "    FROM Products \n",
    "    WHERE (Products.list_Price) > ( SELECT AVG(list_Price) From Products ) \n",
    "    ORDER BY Products.list_Price DESC\n",
    "    \"\"\",connection)\n",
    "except:\n",
    "    pass\n",
    "Company = list(salesBycompanies[\"Company\"])\n",
    "TotalSales = list(salesBycompanies[\"Total\"])\n",
    "Product_Name = list(Top10Products[\"Product_Name\"])\n",
    "Total_Units_Sold = list(Top10Products[\"Total Units Sold\"])\n",
    "Shipped_Date = [str(i) for i in SalesByTime[\"Shipped_Date\"]]\n",
    "\n",
    "TotalSaless = [float(i.replace(\",\",\"\")) for i in SalesByTime[\"Total\"] ]\n",
    "Monthlysalestotal = [float(i) for i in SalesByMonth[\"total\"]]\n",
    "MonthlysalesMonths = list(SalesByMonth[\"month\"])\n",
    "Yearsalestotal = [float(i) for i in SalesByYear[\"total\"]]\n",
    "Yearsales = list(SalesByYear[\"year\"])\n",
    "TotalAllSales=sum(Yearsalestotal)\n",
    "SalesByTime[\"Total\"]=[float(i.replace(\",\",\"\")) for i in SalesByTime[\"Total\"] ]\n",
    "print(SalesByTime)\n"
   ]
  },
  {
   "cell_type": "code",
   "execution_count": 18,
   "id": "aware-flashing",
   "metadata": {},
   "outputs": [
    {
     "data": {
      "text/plain": [
       "[datetime.date(2006, 1, 22),\n",
       " datetime.date(2006, 1, 22),\n",
       " datetime.date(2006, 1, 22),\n",
       " datetime.date(2006, 1, 31),\n",
       " datetime.date(2006, 2, 7),\n",
       " datetime.date(2006, 2, 12),\n",
       " datetime.date(2006, 2, 25),\n",
       " datetime.date(2006, 3, 9),\n",
       " datetime.date(2006, 3, 11),\n",
       " datetime.date(2006, 3, 24),\n",
       " datetime.date(2006, 3, 24),\n",
       " datetime.date(2006, 4, 3),\n",
       " datetime.date(2006, 4, 5),\n",
       " datetime.date(2006, 4, 5),\n",
       " datetime.date(2006, 4, 5),\n",
       " datetime.date(2006, 4, 5),\n",
       " datetime.date(2006, 4, 5),\n",
       " datetime.date(2006, 4, 7),\n",
       " datetime.date(2006, 4, 7),\n",
       " datetime.date(2006, 4, 8),\n",
       " datetime.date(2006, 4, 22),\n",
       " datetime.date(2006, 4, 25),\n",
       " datetime.date(2006, 4, 30),\n",
       " datetime.date(2006, 5, 24),\n",
       " datetime.date(2006, 6, 5),\n",
       " datetime.date(2006, 6, 5),\n",
       " datetime.date(2006, 6, 5),\n",
       " datetime.date(2006, 6, 5),\n",
       " datetime.date(2006, 6, 5),\n",
       " datetime.date(2006, 6, 7),\n",
       " datetime.date(2006, 6, 8),\n",
       " datetime.date(2006, 6, 23)]"
      ]
     },
     "execution_count": 18,
     "metadata": {},
     "output_type": "execute_result"
    }
   ],
   "source": [
    "SalesByTime[\"Shipped_Date\"].to_list()"
   ]
  },
  {
   "cell_type": "code",
   "execution_count": 38,
   "id": "looking-asthma",
   "metadata": {},
   "outputs": [
    {
     "data": {
      "text/plain": [
       "'March'"
      ]
     },
     "execution_count": 38,
     "metadata": {},
     "output_type": "execute_result"
    }
   ],
   "source": [
    "import datetime\n",
    "mydate = datetime.datetime.now()\n",
    "mydate.strftime(\"%A\") # 'December'\n",
    "ThisYear=mydate.strftime(\"%Y\")\n",
    "\n",
    "ThisMonth=mydate.strftime(\"%B\")\n"
   ]
  },
  {
   "cell_type": "code",
   "execution_count": 15,
   "id": "productive-switch",
   "metadata": {},
   "outputs": [
    {
     "data": {
      "text/plain": [
       "datetime.datetime(2021, 3, 12, 16, 20, 10, 12289)"
      ]
     },
     "execution_count": 15,
     "metadata": {},
     "output_type": "execute_result"
    }
   ],
   "source": [
    "mydate"
   ]
  },
  {
   "cell_type": "code",
   "execution_count": 27,
   "id": "inappropriate-continent",
   "metadata": {},
   "outputs": [],
   "source": [
    "df=SalesByTime"
   ]
  },
  {
   "cell_type": "code",
   "execution_count": 43,
   "id": "entertaining-complaint",
   "metadata": {},
   "outputs": [],
   "source": [
    "import datetime\n",
    "mydate = datetime.datetime.now()\n",
    "mydate.strftime(\"%A\") # 'December'\n",
    "ThisYear=mydate.strftime(\"%Y\")\n",
    "\n",
    "ThisMonth=mydate.strftime(\"%B\")\n",
    "\n",
    "df=SalesByTime\n",
    "df['Qtr'] = df['Shipped_Date'].apply(lambda x: x.strftime('%m'))\n",
    "\n",
    "df['Qtr'] = pd.to_numeric(df['Qtr'])//4+1\n",
    "\n",
    "df['Year'] = df['Shipped_Date'].apply(lambda x: x.strftime('%Y'))\n",
    "\n",
    "df['Qtr_Yr'] = df['Year'].astype(str) + '-Q' + df['Qtr'].astype(str)\n",
    "ThisMonthTotalSales=df[(df[\"Month\"]==ThisMonth)&(df[\"Year\"]==\"ThisYear\")][\"Total\"].sum()"
   ]
  },
  {
   "cell_type": "code",
   "execution_count": 44,
   "id": "overall-victorian",
   "metadata": {},
   "outputs": [
    {
     "data": {
      "text/plain": [
       "0.0"
      ]
     },
     "execution_count": 44,
     "metadata": {},
     "output_type": "execute_result"
    }
   ],
   "source": [
    "ThisMonthTotalSales"
   ]
  },
  {
   "cell_type": "code",
   "execution_count": 42,
   "id": "robust-childhood",
   "metadata": {},
   "outputs": [
    {
     "data": {
      "text/plain": [
       "0.0"
      ]
     },
     "execution_count": 42,
     "metadata": {},
     "output_type": "execute_result"
    }
   ],
   "source": []
  },
  {
   "cell_type": "code",
   "execution_count": null,
   "id": "passive-verification",
   "metadata": {},
   "outputs": [],
   "source": []
  }
 ],
 "metadata": {
  "kernelspec": {
   "display_name": "Python 3",
   "language": "python",
   "name": "python3"
  },
  "language_info": {
   "codemirror_mode": {
    "name": "ipython",
    "version": 3
   },
   "file_extension": ".py",
   "mimetype": "text/x-python",
   "name": "python",
   "nbconvert_exporter": "python",
   "pygments_lexer": "ipython3",
   "version": "3.7.9"
  }
 },
 "nbformat": 4,
 "nbformat_minor": 5
}
